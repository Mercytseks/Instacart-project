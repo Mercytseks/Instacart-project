{
 "cells": [
  {
   "cell_type": "markdown",
   "id": "75a33b7c",
   "metadata": {},
   "source": [
    "### Table of content"
   ]
  },
  {
   "cell_type": "markdown",
   "id": "01983189",
   "metadata": {},
   "source": [
    "#### 1. Importing libraries"
   ]
  },
  {
   "cell_type": "markdown",
   "id": "f7965b53",
   "metadata": {},
   "source": [
    "#### 2. Data types"
   ]
  },
  {
   "cell_type": "markdown",
   "id": "cefaed8f",
   "metadata": {},
   "source": [
    "### 01.Importing libraries"
   ]
  },
  {
   "cell_type": "code",
   "execution_count": 1,
   "id": "3f0268b3",
   "metadata": {},
   "outputs": [],
   "source": [
    "# import libraries\n",
    "import pandas as pd\n",
    "import numpy as np\n",
    "import os"
   ]
  },
  {
   "cell_type": "markdown",
   "id": "83e6adab",
   "metadata": {},
   "source": [
    "### 02. data types"
   ]
  },
  {
   "cell_type": "code",
   "execution_count": null,
   "id": "e37b8f3c",
   "metadata": {},
   "outputs": [],
   "source": [
    "# Question 7"
   ]
  },
  {
   "cell_type": "code",
   "execution_count": 35,
   "id": "57850511",
   "metadata": {},
   "outputs": [],
   "source": [
    "y=50"
   ]
  },
  {
   "cell_type": "code",
   "execution_count": 36,
   "id": "67dbe8e2",
   "metadata": {},
   "outputs": [],
   "source": [
    "z=50"
   ]
  },
  {
   "cell_type": "code",
   "execution_count": 31,
   "id": "ff349d0e",
   "metadata": {},
   "outputs": [],
   "source": [
    "a=70"
   ]
  },
  {
   "cell_type": "code",
   "execution_count": 32,
   "id": "88e1d8d3",
   "metadata": {},
   "outputs": [],
   "source": [
    "b=30"
   ]
  },
  {
   "cell_type": "code",
   "execution_count": 34,
   "id": "96b84a88",
   "metadata": {},
   "outputs": [],
   "source": [
    "c=20"
   ]
  },
  {
   "cell_type": "code",
   "execution_count": 37,
   "id": "e1eeef4f",
   "metadata": {},
   "outputs": [
    {
     "data": {
      "text/plain": [
       "100"
      ]
     },
     "execution_count": 37,
     "metadata": {},
     "output_type": "execute_result"
    }
   ],
   "source": [
    "y+z"
   ]
  },
  {
   "cell_type": "code",
   "execution_count": 38,
   "id": "b8646eae",
   "metadata": {},
   "outputs": [
    {
     "data": {
      "text/plain": [
       "100"
      ]
     },
     "execution_count": 38,
     "metadata": {},
     "output_type": "execute_result"
    }
   ],
   "source": [
    "a+b"
   ]
  },
  {
   "cell_type": "code",
   "execution_count": 40,
   "id": "59b4fb16",
   "metadata": {},
   "outputs": [
    {
     "data": {
      "text/plain": [
       "100"
      ]
     },
     "execution_count": 40,
     "metadata": {},
     "output_type": "execute_result"
    }
   ],
   "source": [
    "a+b+y-z"
   ]
  },
  {
   "cell_type": "code",
   "execution_count": 41,
   "id": "b14656c5",
   "metadata": {},
   "outputs": [],
   "source": [
    "# Question 8"
   ]
  },
  {
   "cell_type": "code",
   "execution_count": 42,
   "id": "57930f46",
   "metadata": {},
   "outputs": [],
   "source": [
    "a=7.89"
   ]
  },
  {
   "cell_type": "code",
   "execution_count": 43,
   "id": "06933f9e",
   "metadata": {},
   "outputs": [],
   "source": [
    "b=2.67"
   ]
  },
  {
   "cell_type": "code",
   "execution_count": 44,
   "id": "bb0e6a2c",
   "metadata": {},
   "outputs": [
    {
     "data": {
      "text/plain": [
       "2.955056179775281"
      ]
     },
     "execution_count": 44,
     "metadata": {},
     "output_type": "execute_result"
    }
   ],
   "source": [
    "a/b"
   ]
  },
  {
   "cell_type": "code",
   "execution_count": null,
   "id": "eb676177",
   "metadata": {},
   "outputs": [],
   "source": [
    "# Question 9"
   ]
  },
  {
   "cell_type": "code",
   "execution_count": 45,
   "id": "81640d87",
   "metadata": {},
   "outputs": [],
   "source": [
    "a='G'"
   ]
  },
  {
   "cell_type": "code",
   "execution_count": 46,
   "id": "b7c3e5ed",
   "metadata": {},
   "outputs": [],
   "source": [
    "b='r'"
   ]
  },
  {
   "cell_type": "code",
   "execution_count": 47,
   "id": "f7c44932",
   "metadata": {},
   "outputs": [],
   "source": [
    "c='e'"
   ]
  },
  {
   "cell_type": "code",
   "execution_count": 48,
   "id": "a8b090a5",
   "metadata": {},
   "outputs": [],
   "source": [
    "d='a'"
   ]
  },
  {
   "cell_type": "code",
   "execution_count": 49,
   "id": "1ba68628",
   "metadata": {},
   "outputs": [],
   "source": [
    "e='t'"
   ]
  },
  {
   "cell_type": "code",
   "execution_count": 50,
   "id": "d758a78b",
   "metadata": {},
   "outputs": [
    {
     "data": {
      "text/plain": [
       "'Great'"
      ]
     },
     "execution_count": 50,
     "metadata": {},
     "output_type": "execute_result"
    }
   ],
   "source": [
    "a+b+c+d+e"
   ]
  },
  {
   "cell_type": "code",
   "execution_count": 51,
   "id": "f2531edf",
   "metadata": {},
   "outputs": [],
   "source": [
    "# Question 10"
   ]
  },
  {
   "cell_type": "code",
   "execution_count": 55,
   "id": "aafc22c5",
   "metadata": {},
   "outputs": [],
   "source": [
    "x='I '"
   ]
  },
  {
   "cell_type": "code",
   "execution_count": 56,
   "id": "0c5d778b",
   "metadata": {},
   "outputs": [],
   "source": [
    "y='am'"
   ]
  },
  {
   "cell_type": "code",
   "execution_count": 58,
   "id": "eb3d8028",
   "metadata": {},
   "outputs": [],
   "source": [
    "z=' phenomenal'"
   ]
  },
  {
   "cell_type": "code",
   "execution_count": 59,
   "id": "e04d09cc",
   "metadata": {},
   "outputs": [
    {
     "name": "stdout",
     "output_type": "stream",
     "text": [
      "I am phenomenal\n"
     ]
    }
   ],
   "source": [
    "print(x+y+z)"
   ]
  },
  {
   "cell_type": "code",
   "execution_count": 68,
   "id": "38de2316",
   "metadata": {},
   "outputs": [],
   "source": [
    "a='God'"
   ]
  },
  {
   "cell_type": "code",
   "execution_count": 65,
   "id": "6c722357",
   "metadata": {},
   "outputs": [],
   "source": [
    "b=' is'"
   ]
  },
  {
   "cell_type": "code",
   "execution_count": 66,
   "id": "d636e230",
   "metadata": {},
   "outputs": [],
   "source": [
    "c=' good'"
   ]
  },
  {
   "cell_type": "code",
   "execution_count": 69,
   "id": "bc1e56de",
   "metadata": {},
   "outputs": [
    {
     "name": "stdout",
     "output_type": "stream",
     "text": [
      "God is good\n"
     ]
    }
   ],
   "source": [
    "print(a+b+c)"
   ]
  },
  {
   "cell_type": "code",
   "execution_count": 70,
   "id": "3836951d",
   "metadata": {},
   "outputs": [],
   "source": [
    "# Bonus task"
   ]
  },
  {
   "cell_type": "code",
   "execution_count": 71,
   "id": "967a7b66",
   "metadata": {},
   "outputs": [],
   "source": [
    "n='smart'"
   ]
  },
  {
   "cell_type": "code",
   "execution_count": 72,
   "id": "d7f21fab",
   "metadata": {},
   "outputs": [
    {
     "data": {
      "text/plain": [
       "'smartsmartsmartsmartsmartsmartsmartsmartsmartsmartsmartsmartsmartsmartsmartsmartsmartsmartsmartsmartsmartsmartsmartsmartsmartsmartsmartsmartsmartsmartsmartsmartsmartsmartsmartsmartsmartsmartsmartsmartsmartsmartsmartsmartsmartsmartsmartsmartsmartsmartsmartsmartsmartsmartsmartsmartsmartsmartsmartsmartsmartsmartsmartsmartsmartsmartsmartsmartsmartsmartsmartsmartsmartsmartsmartsmartsmartsmartsmartsmartsmartsmartsmartsmartsmartsmartsmartsmartsmartsmartsmartsmartsmartsmartsmartsmartsmartsmartsmartsmart'"
      ]
     },
     "execution_count": 72,
     "metadata": {},
     "output_type": "execute_result"
    }
   ],
   "source": [
    "n*100"
   ]
  },
  {
   "cell_type": "code",
   "execution_count": null,
   "id": "e74ad310",
   "metadata": {},
   "outputs": [],
   "source": []
  }
 ],
 "metadata": {
  "kernelspec": {
   "display_name": "Python 3 (ipykernel)",
   "language": "python",
   "name": "python3"
  },
  "language_info": {
   "codemirror_mode": {
    "name": "ipython",
    "version": 3
   },
   "file_extension": ".py",
   "mimetype": "text/x-python",
   "name": "python",
   "nbconvert_exporter": "python",
   "pygments_lexer": "ipython3",
   "version": "3.9.12"
  }
 },
 "nbformat": 4,
 "nbformat_minor": 5
}
